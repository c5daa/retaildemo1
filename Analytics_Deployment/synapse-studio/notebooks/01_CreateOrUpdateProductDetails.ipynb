{
  "cells": [
    {
      "cell_type": "markdown",
      "metadata": {},
      "source": [
        "Copyright (c) Microsoft Corporation. \n",
        "Licensed under the MIT license. \n",
        "In the Synapse-AI-Retail-Recommender, there are instructions for uploading the Product Detail JSON to the ADLS Gen2 Account that is attached to your Synapse Studio  \n",
        "  \n",
        "This script reads the Product Details JSON and creates a product table to be indexed and made queryable by the API Layer for adding in extra details about the products like images and cleaned up names. "
      ]
    },
    {
      "cell_type": "code",
      "execution_count": null,
      "outputs": [],
      "metadata": {},
      "source": [
        "from pyspark.sql.functions import *\n",
        "\n",
        "# name of the Data Lake Storage Account\n",
        "DATA_LAKE_ACCOUNT_NAME = \"\"\n",
        "# name of the filesystem that was chosen to be the primary filesystem\n",
        "FILE_SYSTEM_NAME = \"\"\n",
        "\n",
        "data_path = spark.read.load(f\"abfss://{FILE_SYSTEM_NAME}@{DATA_LAKE_ACCOUNT_NAME}.dfs.core.windows.net/synapse/workspaces/product_detail.json\", format='json', multiline=True)\n",
        "df = data_path.select(explode(col(\"products\")).alias(\"products\")) \\\n",
        "                .select(\"products.*\", lit(current_timestamp()).cast(\"timestamp\").alias(\"updated_ts\")) \\\n",
        "                .select(\"id\", \"productID\", \"productCategory\", \"brand\", \"name\", \"price\", \"imageURL\", \"description\", \"updated_ts\")\n",
        "\n",
        "try:\n",
        "    spark.sql(\"CREATE DATABASE retailaidb\")\n",
        "except:\n",
        "    print(\"Database already exists\")\n",
        "\n",
        "\n",
        "df.write.format(\"cosmos.oltp\")\\\n",
        "    .option(\"spark.synapse.linkedService\", \"retail_ai_cosmos_synapse_link\")\\\n",
        "    .option(\"spark.cosmos.container\", \"product_details\")\\\n",
        "    .option(\"spark.cosmos.write.upsertEnabled\", \"true\")\\\n",
        "    .mode('overwrite')\\\n",
        "    .save()"
      ],
      "attachments": {}
    }
  ],
  "metadata": {
    "saveOutput": false,
    "language_info": {
      "name": "python",
      "version": "3.7.7-final"
    },
    "kernelspec": {
      "name": "python3",
      "display_name": "Python 3"
    }
  },
  "nbformat": 4,
  "nbformat_minor": 2
}